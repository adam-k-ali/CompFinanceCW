{
 "cells": [
  {
   "cell_type": "code",
   "execution_count": null,
   "metadata": {},
   "outputs": [],
   "source": [
    "from pandas import read_csv, DataFrame, to_datetime\n",
    "import matplotlib.pyplot as plt"
   ]
  },
  {
   "cell_type": "code",
   "execution_count": null,
   "metadata": {},
   "outputs": [],
   "source": [
    "bt_prices = read_csv('data/BT-A.L.csv')\n",
    "bt_prices.head()"
   ]
  },
  {
   "cell_type": "code",
   "execution_count": null,
   "metadata": {},
   "outputs": [],
   "source": [
    "bt_prices = bt_prices[['Date', 'Close']]\n",
    "# Fill in missing values with the previous value\n",
    "bt_prices = bt_prices.fillna(method='ffill')\n",
    "\n",
    "# Convert the date column to a datetime object\n",
    "bt_prices['Date'] = to_datetime(bt_prices['Date'])\n",
    "\n",
    "# Rename columns\n",
    "bt_prices = bt_prices.rename(columns={'Date': 'time', 'Close': 'value'})"
   ]
  },
  {
   "cell_type": "code",
   "execution_count": null,
   "metadata": {},
   "outputs": [],
   "source": [
    "bt_prices.plot(x='time', y='value')"
   ]
  },
  {
   "cell_type": "code",
   "execution_count": null,
   "metadata": {},
   "outputs": [],
   "source": [
    "def difference(time_series: DataFrame, d: int):\n",
    "    \"\"\"\n",
    "    Compute the difference between the current and previous value of a series.\n",
    "    Assumes the series is sorted by time, the time column is named 'time' and the series is named 'value'.\n",
    "    Will produce a new column named 'diff' in the dataframe.\n",
    "\n",
    "    :param time_series: the time series to compute the difference for\n",
    "    :param d: the difference parameter\n",
    "    \"\"\"\n",
    "    assert d > 0, 'd must be a non-zero positive integer'\n",
    "\n",
    "    # Create a new column for the difference, and initialize it with the original series\n",
    "    time_series['diff'] = time_series['value']\n",
    "\n",
    "    # Apply the difference function d times\n",
    "    while d > 0:\n",
    "        time_series['diff'] = time_series['diff'] - time_series['diff'].shift(1)\n",
    "        d -= 1\n",
    "    \n",
    "    return time_series\n",
    "\n",
    "# Compute the difference of the time series\n",
    "bt_prices = difference(bt_prices, 1)\n",
    "\n",
    "# Plot the time series\n",
    "bt_prices.plot(x='time', y='diff')"
   ]
  }
 ],
 "metadata": {
  "kernelspec": {
   "display_name": ".venv",
   "language": "python",
   "name": "python3"
  },
  "language_info": {
   "codemirror_mode": {
    "name": "ipython",
    "version": 3
   },
   "file_extension": ".py",
   "mimetype": "text/x-python",
   "name": "python",
   "nbconvert_exporter": "python",
   "pygments_lexer": "ipython3",
   "version": "3.10.9"
  },
  "orig_nbformat": 4
 },
 "nbformat": 4,
 "nbformat_minor": 2
}
